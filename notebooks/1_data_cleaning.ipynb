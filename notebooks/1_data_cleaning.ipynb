{
 "cells": [
  {
   "cell_type": "markdown",
   "metadata": {},
   "source": [
    "# Sales Data Cleaning and Preprocessing\n",
    "This notebook demonstrates the data cleaning process for our sales data."
   ]
  },
  {
   "cell_type": "code",
   "execution_count": null,
   "metadata": {},
   "outputs": [],
   "source": [
    "import pandas as pd\n",
    "import numpy as np\n",
    "from src.data_processor import DataProcessor\n",
    "\n",
    "# Load raw data\n",
    "processor = DataProcessor('data/raw/sales_data.csv')\n",
    "df_cleaned = processor.clean_data()\n",
    "\n",
    "# Display data quality metrics\n",
    "print(\"Data Quality Report:\")\n",
    "print(f\"Total Records: {len(df_cleaned)}\")\n",
    "print(f\"Missing Values:\\n{df_cleaned.isnull().sum()}\")\n",
    "print(f\"Duplicate Records: {df_cleaned.duplicated().sum()}\")"
   ]
  }
 ]
}
