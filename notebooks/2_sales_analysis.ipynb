{
 "cells": [
  {
   "cell_type": "markdown",
   "metadata": {},
   "source": [
    "# Sales Data Analysis\n",
    "This notebook contains detailed sales analysis and visualizations."
   ]
  },
  {
   "cell_type": "code",
   "execution_count": null,
   "metadata": {},
   "outputs": [],
   "source": [
    "import pandas as pd\n",
    "import matplotlib.pyplot as plt\n",
    "from src.analysis import SalesAnalyzer\n",
    "from src.visualization import SalesVisualizer\n",
    "\n",
    "# Load cleaned data\n",
    "df = pd.read_csv('data/processed/cleaned_sales.csv')\n",
    "\n",
    "# Initialize analyzer and visualizer\n",
    "analyzer = SalesAnalyzer(df)\n",
    "visualizer = SalesVisualizer(df)\n",
    "\n",
    "# Generate insights\n",
    "summary = analyzer.get_sales_summary()\n",
    "print(\"Sales Summary:\")\n",
    "for key, value in summary.items():\n",
    "    print(f\"{key}: {value}\")\n",
    "\n",
    "# Create visualizations\n",
    "visualizer.plot_monthly_sales()\n",
    "plt.show()"
   ]
  }
 ]
}
